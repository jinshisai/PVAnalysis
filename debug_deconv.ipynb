{
 "cells": [
  {
   "cell_type": "code",
   "execution_count": 1,
   "id": "seventh-creation",
   "metadata": {},
   "outputs": [],
   "source": [
    "import numpy as np\n",
    "import matplotlib.pyplot as plt\n",
    "from pvanalysis import PVAnalysis\n",
    "from mpl_toolkits.axes_grid1 import make_axes_locatable"
   ]
  },
  {
   "cell_type": "code",
   "execution_count": 2,
   "id": "legendary-punch",
   "metadata": {},
   "outputs": [
    {
     "data": {
      "text/plain": [
       "'------------------------'"
      ]
     },
     "execution_count": 2,
     "metadata": {},
     "output_type": "execute_result"
    }
   ],
   "source": [
    "'-------- INPUTS --------'\n",
    "fitsfile = './testfits/test.fits'\n",
    "outname = 'pvanalysis'  # file name header for outputs\n",
    "incl = 48.  # deg\n",
    "vsys = 6.4  # km/s\n",
    "dist = 140.  # pc\n",
    "rms = 1.7e-3  # Jy/beam\n",
    "thr = 5.  # rms\n",
    "ridgemode = 'mean'  # 'mean' or 'gauss'\n",
    "xlim = [-200, 0, 0, 200]  # au; [-outlim, -inlim, inlim, outlim]\n",
    "vlim = np.array([-5, 0, 0, 5]) + vsys  # km/s\n",
    "Mlim = [0, 10]  # M_sun; to exclude unreasonable points\n",
    "xlim_plot = [200. / 20., 200.]  # au; [inlim, outlim]\n",
    "vlim_plot = [6. / 20., 6.]  # km/s\n",
    "use_velocity = True  # cuts along the velocity direction\n",
    "use_position = True  # cuts along the positional direction\n",
    "include_vsys = False  # vsys offset. False means vsys=0.\n",
    "include_dp = True  # False means a single power\n",
    "include_pin = False  # False means pin=0.5 (Keplerian).\n",
    "show_pv = True  # figures will be made regardless of this option.\n",
    "show_corner = True  # figures will be made regardless of this option.\n",
    "minabserr = 0.1  # minimum absolute errorbar in the unit of bmaj or dv.\n",
    "minrelerr = 0.01  # minimum relative errorbar.\n",
    "'------------------------'"
   ]
  },
  {
   "cell_type": "code",
   "execution_count": 120,
   "id": "olive-eleven",
   "metadata": {},
   "outputs": [
    {
     "name": "stdout",
     "output_type": "stream",
     "text": [
      "read_pvfits: No PA information is given.\n",
      "read_pvfits: Convert frequency to velocity\n"
     ]
    }
   ],
   "source": [
    "impv = PVAnalysis(fitsfile, rms, vsys, dist, pa=None)\n",
    "#print(impv.fitsdata.naxis, impv.fitsdata.data.shape, impv.fitsdata.beam)\n",
    "#impv.fitsdata.beam_deconvolution(sigmacut=rms*3., highcut=1.) # highcut=5.\n",
    "sigmacut=3.*rms\n",
    "highcut=1"
   ]
  },
  {
   "cell_type": "code",
   "execution_count": 121,
   "id": "single-shape",
   "metadata": {},
   "outputs": [],
   "source": [
    "from scipy.fft import fftshift\n",
    "from scipy.fft import ifftn\n",
    "from scipy.fft import fftn\n",
    "from scipy.fft import fftfreq\n",
    "# 1D Gaussian function\n",
    "from pvanalysis.fitfuncs import gauss1d #(x,amp,mean,sig):"
   ]
  },
  {
   "cell_type": "code",
   "execution_count": 122,
   "id": "peaceful-flower",
   "metadata": {},
   "outputs": [],
   "source": [
    "data = impv.fitsdata.data.copy()\n",
    "if sigmacut:\n",
    "    data[data < sigmacut] = 0.\n",
    "\n",
    "# beam array\n",
    "nv, nx = impv.fitsdata.nv, impv.fitsdata.nx\n",
    "if impv.fitsdata.multibeam:\n",
    "    beam = np.empty((nv,nx))\n",
    "    for i in range(len(impv.fitsdata.beam)):\n",
    "        bmaj, bmin, bpa, _, _ = impv.fitsdata.beam[i]\n",
    "        if impv.fitsdata.pa != None:\n",
    "            res_off = get_1dresolution(impv.fitsdata.pa, bmaj, bmin, bpa)\n",
    "        else:\n",
    "            res_off = bmaj\n",
    "        beam[i, :] = gauss1d(impv.fitsdata.xaxis, 1., 0., res_off)\n",
    "        beam[i, :] /= np.sum(beam[i, :]) # normalize\n",
    "elif impv.fitsdata.res_off != None:\n",
    "    _beam = gauss1d(impv.fitsdata.xaxis, 1., 0., impv.fitsdata.res_off)\n",
    "    _beam /= np.sum(_beam) # normalize\n",
    "    beam = np.tile(_beam, (nv,1))\n",
    "else:\n",
    "    print('ERROR\\tbeam_deconvolution: angular resolution is not given correctly.')\n",
    "    print('ERROR\\tbeam_deconvolution: check the header of the input fits file.')"
   ]
  },
  {
   "cell_type": "code",
   "execution_count": 138,
   "id": "experienced-festival",
   "metadata": {},
   "outputs": [],
   "source": [
    "# check axis\n",
    "if impv.fitsdata.naxis == 2:\n",
    "    fftaxes=(1,)\n",
    "    shape = (nv, nx)\n",
    "elif impv.fitsdata.naxis == 3:\n",
    "    beam = beam.reshape(1,nv,nx)\n",
    "    fftaxes = (2,)\n",
    "    shape = (1, nv, nx)\n",
    "else:\n",
    "    print('ERROR\\tbeam_deconvolution: number of fits axes must be 2 or 3.')\n",
    "\n",
    "# FFT\n",
    "freq_x   = fftshift(fftfreq(nx, impv.fitsdata.delx))\n",
    "freq_v   = fftshift(fftfreq(nv, impv.fitsdata.delv))\n",
    "ffx, ffv = np.meshgrid(freq_x, freq_v)\n",
    "ffx = ffx.reshape(shape)\n",
    "beam_fft = fftshift(fftn(beam, axes=fftaxes), axes=fftaxes)\n",
    "data_fft = fftshift(fftn(data, axes=fftaxes), axes=fftaxes)"
   ]
  },
  {
   "cell_type": "code",
   "execution_count": 139,
   "id": "tutorial-preservation",
   "metadata": {},
   "outputs": [],
   "source": [
    "# deconvolution\n",
    "sigma_beam_fft = 1./(impv.fitsdata.res_off*np.pi)\n",
    "#print(sigma_beam_fft)\n",
    "d_deconv_fft = data_fft/beam_fft\n",
    "\n",
    "if highcut != None:\n",
    "    d_deconv_fft[np.abs(ffx) > sigma_beam_fft*highcut] = 0.+0.j # drop highfreq. components\n",
    "d_deconv = np.abs(fftshift(ifftn(d_deconv_fft, axes=fftaxes), axes=fftaxes))"
   ]
  },
  {
   "cell_type": "code",
   "execution_count": 159,
   "id": "likely-accordance",
   "metadata": {},
   "outputs": [
    {
     "name": "stdout",
     "output_type": "stream",
     "text": [
      "(1, 40, 401) (1, 40, 401)\n",
      "16\n"
     ]
    },
    {
     "data": {
      "image/png": "[encoded data removed]",
      "text/plain": [
       "<Figure size 432x288 with 1 Axes>"
      ]
     },
     "metadata": {
      "needs_background": "light"
     },
     "output_type": "display_data"
    }
   ],
   "source": [
    "from scipy.signal import argrelmin, argrelmax\n",
    "test_indx = nv//4+2\n",
    "highcut   = 1.\n",
    "\n",
    "d_1d = data[0,test_indx,:]\n",
    "print(data.shape, data_fft.shape)\n",
    "#d_fft_1d = fftshift(fftn(d_1d))\n",
    "#print(d_1d)\n",
    "d_fft_1d    = np.abs(data_fft)[0,test_indx,:]\n",
    "beam_fft_1d = np.abs(beam_fft)[0,test_indx,:]\n",
    "d_deconv_fft_1d = d_fft_1d/beam_fft_1d\n",
    "#if highcut != None:\n",
    "#    d_deconv_fft_1d[np.abs(freq_x) > sigma_beam_fft*highcut] = 0.\n",
    "first_null = argrelmin(d_fft_1d[nx//2:])[0][0]\n",
    "print(first_null)\n",
    "d_deconv_fft_1d[ np.abs(freq_x) > freq_x[nx//2:][first_null]] = 0.\n",
    "\n",
    "plt.plot(freq_x, d_fft_1d)\n",
    "plt.plot(freq_x, beam_fft_1d)\n",
    "plt.plot(freq_x, d_deconv_fft_1d)\n",
    "plt.hlines(np.sum(d_1d), -5, 5, ls='--', color='k')\n",
    "#print(np.sum(d_1d))\n",
    "plt.xlim(-5,5)\n",
    "plt.ylim(-0.1,2.1)\n",
    "plt.show()"
   ]
  },
  {
   "cell_type": "code",
   "execution_count": null,
   "id": "hundred-allen",
   "metadata": {},
   "outputs": [],
   "source": []
  },
  {
   "cell_type": "code",
   "execution_count": null,
   "id": "ranging-summit",
   "metadata": {},
   "outputs": [],
   "source": []
  }
 ],
 "metadata": {
  "kernelspec": {
   "display_name": "Python 3",
   "language": "python",
   "name": "python3"
  },
  "language_info": {
   "codemirror_mode": {
    "name": "ipython",
    "version": 3
   },
   "file_extension": ".py",
   "mimetype": "text/x-python",
   "name": "python",
   "nbconvert_exporter": "python",
   "pygments_lexer": "ipython3",
   "version": "3.8.1"
  }
 },
 "nbformat": 4,
 "nbformat_minor": 5
}
